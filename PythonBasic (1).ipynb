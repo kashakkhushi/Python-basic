{
  "nbformat": 4,
  "nbformat_minor": 0,
  "metadata": {
    "colab": {
      "provenance": []
    },
    "kernelspec": {
      "name": "python3",
      "display_name": "Python 3"
    },
    "language_info": {
      "name": "python"
    }
  },
  "cells": [
    {
      "cell_type": "markdown",
      "source": [
        "# THEORY QUESTIONS\n"
      ],
      "metadata": {
        "id": "ATlcJN32okO9"
      }
    },
    {
      "cell_type": "markdown",
      "source": [
        "Q1.What is Python, and why is it popular?                                       \n",
        "Solution: Python is a high level programming language which is known for its readability and high active community. It is quite popular beacuse of its simple syntax and the fact that it consists of a lot libraries inlcuding machine learning libraries makes it more easy to use among the coders.\n",
        "\n",
        "Q2.What is an interpreter in Python?                                            \n",
        "Solution: An interpreter is a program that reads and executes the code line by line.\n",
        "\n",
        "Q3. What are pre-defined keywords in Python?                                    \n",
        "Solution:Pre-defined are special words which cannot be used as a variable names or functions.There are 33 predefined keywords in python which are if,elif,False,True,None ,else,for,is,and,or,in,break,continue,while,try, and so on.\n",
        "\n",
        "Q4.Can keywords be used as variable names?                                      \n",
        "Solution: No, keywords cannot be use as a variable name ,function or any other type of identifier.\n",
        "\n",
        "Q5.What is mutability in Python?                                                \n",
        "Solution: Mutability is the ability of the  object/data structure to change even after creation. For example, list is one of the data structure in python which are mutable.\n",
        "\n",
        "Q6. Why are lists mutable, but tuples are immutable?                            \n",
        "Solution: List is a data structure in Python which are mutable(they are changeable even after creation) and has an order sequence of elements. It uses square brackets and can be modified. While tuple on the other hand is a data structure in python which are immutable(they are unchangeable after creation).It uses paranthesis instead of square brackets and cannot be modified.\n",
        "\n",
        "Q7.What is the difference between “==” and “is” operators inPython?             \n",
        "Solution: \"==\" is a comparison operator and \"is\" is an identity operator. The \"is\" operator compares the location of the two objects whereas the\"==\" operator compares the value of the two  objects.\n",
        "\n",
        "Q8. What are logical operators in Python?                                       \n",
        "Solution: Logical operators are those operators which are used to combine boolean expression.They are  logical AND(&&), logical OR (||) and logical NOT.\n",
        "\n",
        "Q9.What is type casting in Python?                                              \n",
        "Solution: Type casting in python is a process of changing the data type of a variable/objects.\n",
        "\n",
        "Q10. What is the difference between implicit and explicit type casting?       \n",
        "Solution: Type casting is of two types:\n",
        "i)Implicit type casting\n",
        "ii)Explicit type casting\n",
        "Implicit type casting automatically converts the data type of the variable based on the context.\n",
        "In explicit type casting we need to manually convert the data type of the variable.\n",
        "\n",
        "\n",
        "\n",
        "Q11.What is the purpose of conditional statements in Python?                  \n",
        "Solution: Conditional statements (if, elif, else and nested if else), help the program to  make decisions. They allow the program to run different parts of code based on whether the  conditions given  are true or false.\n",
        "\n",
        "Q12. How does the elif statement work?                                        \n",
        "Solution: The elif statement stands for \"else if\". Elif statement checks another condition if the previous if statement is false and thus allowing multiple conditions to be tested.\n",
        "\n",
        "\n",
        "Q13.What is the difference between for and while loops?                   \n",
        "Solution: A for loop is used when you know how many times you want to repeat something. A while loop is used when you want to repeat something until a certain condition is no longer true.\n",
        "\n",
        "Q14.Describe a scenario where a while loop is more suitable than a for loop.  \n",
        "Solution: Suppose if you want to  keep asking a user for their password until they enter the correct one. You don’t know how many times they will take to get it right so a while loop is better. It will keep running until the user finally gets it right."
      ],
      "metadata": {
        "id": "IXhZ2pZco7K1"
      }
    },
    {
      "cell_type": "markdown",
      "source": [
        "# PRACTICAL QUESTIONS"
      ],
      "metadata": {
        "id": "GJWmSe5vumy5"
      }
    },
    {
      "cell_type": "code",
      "source": [
        "#Q1. Write a Python program to print \"Hello, World!\"\n",
        "print(\"Hello, World!\")"
      ],
      "metadata": {
        "colab": {
          "base_uri": "https://localhost:8080/"
        },
        "id": "Pgxul2JLurw9",
        "outputId": "0754c87a-e6e7-40c2-90f4-e98fac037a88"
      },
      "execution_count": 4,
      "outputs": [
        {
          "output_type": "stream",
          "name": "stdout",
          "text": [
            "Hello, World!\n"
          ]
        }
      ]
    },
    {
      "cell_type": "code",
      "source": [
        "#Q2. Write a Python program that displays your name and age.\n",
        "name=input(\"Enter your name: \")\n",
        "age=int(input(\"Enter your age: \"))\n",
        "print(\"Name: \",name,\"\\nAge\",age)"
      ],
      "metadata": {
        "colab": {
          "base_uri": "https://localhost:8080/"
        },
        "id": "fog_clIZwQ5q",
        "outputId": "45eb9643-cbeb-4e3b-e286-b60666f2c839"
      },
      "execution_count": 6,
      "outputs": [
        {
          "output_type": "stream",
          "name": "stdout",
          "text": [
            "Enter your name: Khushi\n",
            "Enter your age: 19\n",
            "Name:  Khushi \n",
            "Age 19\n"
          ]
        }
      ]
    },
    {
      "cell_type": "code",
      "source": [
        "#Q3. Write code to print all the pre-defined keywords in Python using the keyword library.\n",
        "import keyword\n",
        "keywords = keyword.kwlist\n",
        "for kw in keywords:\n",
        "    print(kw)"
      ],
      "metadata": {
        "colab": {
          "base_uri": "https://localhost:8080/"
        },
        "collapsed": true,
        "id": "sZOHUxabw8pU",
        "outputId": "ebaf1e88-490f-46a4-8e99-fbfb88112fab"
      },
      "execution_count": 7,
      "outputs": [
        {
          "output_type": "stream",
          "name": "stdout",
          "text": [
            "False\n",
            "None\n",
            "True\n",
            "and\n",
            "as\n",
            "assert\n",
            "async\n",
            "await\n",
            "break\n",
            "class\n",
            "continue\n",
            "def\n",
            "del\n",
            "elif\n",
            "else\n",
            "except\n",
            "finally\n",
            "for\n",
            "from\n",
            "global\n",
            "if\n",
            "import\n",
            "in\n",
            "is\n",
            "lambda\n",
            "nonlocal\n",
            "not\n",
            "or\n",
            "pass\n",
            "raise\n",
            "return\n",
            "try\n",
            "while\n",
            "with\n",
            "yield\n"
          ]
        }
      ]
    },
    {
      "cell_type": "code",
      "source": [
        "#Q4. Write a program that checks if a given word is a Python keyword.\n",
        "import keyword\n",
        "word = input(\"Enter a word: \")\n",
        "if (word in keyword.kwlist):\n",
        "    print(word,\" is a Python keyword.\")\n",
        "else:\n",
        "    print(word,\" is not a Python keyword.\")"
      ],
      "metadata": {
        "colab": {
          "base_uri": "https://localhost:8080/"
        },
        "id": "ShNow7lvxW8I",
        "outputId": "cfff766c-71e4-47ed-9fc1-f1391dcc558a"
      },
      "execution_count": 9,
      "outputs": [
        {
          "output_type": "stream",
          "name": "stdout",
          "text": [
            "Enter a word: try\n",
            "try  is a Python keyword.\n"
          ]
        }
      ]
    },
    {
      "cell_type": "code",
      "source": [
        "#Q5.Create a list and tuple in Python, and demonstrate how attempting to change an element works differently for each.\n",
        "l = [1, 2, 3, 4, 5]\n",
        "print(\"Original list:\", l)\n",
        "l[2] = 9\n",
        "print(\"New list:\", l)\n",
        "t= (1, 2, 3, 4, 5)\n",
        "print(\"Original tuple:\", t)\n",
        "print(\"Attempting to change :\")\n",
        "t[2] = 9\n",
        "#The above code shows that lists are mutable and tuples are immutable."
      ],
      "metadata": {
        "colab": {
          "base_uri": "https://localhost:8080/",
          "height": 245
        },
        "collapsed": true,
        "id": "d-dcZlFeyROZ",
        "outputId": "c7087046-06a4-474f-e7f3-fac2cf877c61"
      },
      "execution_count": 10,
      "outputs": [
        {
          "output_type": "stream",
          "name": "stdout",
          "text": [
            "Original list: [1, 2, 3, 4, 5]\n",
            "New list: [1, 2, 9, 4, 5]\n",
            "Original tuple: (1, 2, 3, 4, 5)\n",
            "Attempting to change :\n"
          ]
        },
        {
          "output_type": "error",
          "ename": "TypeError",
          "evalue": "'tuple' object does not support item assignment",
          "traceback": [
            "\u001b[0;31m---------------------------------------------------------------------------\u001b[0m",
            "\u001b[0;31mTypeError\u001b[0m                                 Traceback (most recent call last)",
            "\u001b[0;32m<ipython-input-10-46df30de892d>\u001b[0m in \u001b[0;36m<cell line: 9>\u001b[0;34m()\u001b[0m\n\u001b[1;32m      7\u001b[0m \u001b[0mprint\u001b[0m\u001b[0;34m(\u001b[0m\u001b[0;34m\"Original tuple:\"\u001b[0m\u001b[0;34m,\u001b[0m \u001b[0mt\u001b[0m\u001b[0;34m)\u001b[0m\u001b[0;34m\u001b[0m\u001b[0;34m\u001b[0m\u001b[0m\n\u001b[1;32m      8\u001b[0m \u001b[0mprint\u001b[0m\u001b[0;34m(\u001b[0m\u001b[0;34m\"Attempting to change :\"\u001b[0m\u001b[0;34m)\u001b[0m\u001b[0;34m\u001b[0m\u001b[0;34m\u001b[0m\u001b[0m\n\u001b[0;32m----> 9\u001b[0;31m \u001b[0mt\u001b[0m\u001b[0;34m[\u001b[0m\u001b[0;36m2\u001b[0m\u001b[0;34m]\u001b[0m \u001b[0;34m=\u001b[0m \u001b[0;36m9\u001b[0m\u001b[0;34m\u001b[0m\u001b[0;34m\u001b[0m\u001b[0m\n\u001b[0m",
            "\u001b[0;31mTypeError\u001b[0m: 'tuple' object does not support item assignment"
          ]
        }
      ]
    },
    {
      "cell_type": "code",
      "source": [
        "#Q6. Write a function to demonstrate the behavior of mutable and immutable arguments.\n",
        "l = [1, 2, 3, 4, 5]\n",
        "print(\"Original list:\", l)\n",
        "l[2] = 9\n",
        "print(\"New list:\", l)\n",
        "t= (1, 2, 3, 4, 5)\n",
        "print(\"Original tuple:\", t)\n",
        "print(\"Attempting to change :\")\n",
        "t[2] = 9\n",
        "#The above code shows that lists are mutable and tuples are immutable."
      ],
      "metadata": {
        "colab": {
          "base_uri": "https://localhost:8080/",
          "height": 263
        },
        "collapsed": true,
        "id": "jNXXX90DzNkA",
        "outputId": "86be0968-adae-4b8f-910c-dc48eefda712"
      },
      "execution_count": 11,
      "outputs": [
        {
          "output_type": "stream",
          "name": "stdout",
          "text": [
            "Original list: [1, 2, 3, 4, 5]\n",
            "New list: [1, 2, 9, 4, 5]\n",
            "Original tuple: (1, 2, 3, 4, 5)\n",
            "Attempting to change :\n"
          ]
        },
        {
          "output_type": "error",
          "ename": "TypeError",
          "evalue": "'tuple' object does not support item assignment",
          "traceback": [
            "\u001b[0;31m---------------------------------------------------------------------------\u001b[0m",
            "\u001b[0;31mTypeError\u001b[0m                                 Traceback (most recent call last)",
            "\u001b[0;32m<ipython-input-11-cbccdc255473>\u001b[0m in \u001b[0;36m<cell line: 9>\u001b[0;34m()\u001b[0m\n\u001b[1;32m      7\u001b[0m \u001b[0mprint\u001b[0m\u001b[0;34m(\u001b[0m\u001b[0;34m\"Original tuple:\"\u001b[0m\u001b[0;34m,\u001b[0m \u001b[0mt\u001b[0m\u001b[0;34m)\u001b[0m\u001b[0;34m\u001b[0m\u001b[0;34m\u001b[0m\u001b[0m\n\u001b[1;32m      8\u001b[0m \u001b[0mprint\u001b[0m\u001b[0;34m(\u001b[0m\u001b[0;34m\"Attempting to change :\"\u001b[0m\u001b[0;34m)\u001b[0m\u001b[0;34m\u001b[0m\u001b[0;34m\u001b[0m\u001b[0m\n\u001b[0;32m----> 9\u001b[0;31m \u001b[0mt\u001b[0m\u001b[0;34m[\u001b[0m\u001b[0;36m2\u001b[0m\u001b[0;34m]\u001b[0m \u001b[0;34m=\u001b[0m \u001b[0;36m9\u001b[0m\u001b[0;34m\u001b[0m\u001b[0;34m\u001b[0m\u001b[0m\n\u001b[0m\u001b[1;32m     10\u001b[0m \u001b[0;31m#The above code shows that lists are mutable and tuples are immutable.\u001b[0m\u001b[0;34m\u001b[0m\u001b[0;34m\u001b[0m\u001b[0m\n",
            "\u001b[0;31mTypeError\u001b[0m: 'tuple' object does not support item assignment"
          ]
        }
      ]
    },
    {
      "cell_type": "code",
      "source": [
        "#Q7. Write a function to demonstrate the behavior of mutable and immutable arguments.\n",
        "l = [1, 2, 3, 4, 5]\n",
        "print(\"Original list:\", l)\n",
        "l[2] = 9\n",
        "print(\"New list:\", l)\n",
        "t= (1, 2, 3, 4, 5)\n",
        "print(\"Original tuple:\", t)\n",
        "print(\"Attempting to change :\")\n",
        "t[2] = 9\n",
        "#The above code shows that lists are mutable and tuples are immutable."
      ],
      "metadata": {
        "collapsed": true,
        "colab": {
          "base_uri": "https://localhost:8080/",
          "height": 263
        },
        "id": "0erG-hKC1lox",
        "outputId": "0a303412-f0f6-4279-c92b-48ab70dbf447"
      },
      "execution_count": 12,
      "outputs": [
        {
          "output_type": "stream",
          "name": "stdout",
          "text": [
            "Original list: [1, 2, 3, 4, 5]\n",
            "New list: [1, 2, 9, 4, 5]\n",
            "Original tuple: (1, 2, 3, 4, 5)\n",
            "Attempting to change :\n"
          ]
        },
        {
          "output_type": "error",
          "ename": "TypeError",
          "evalue": "'tuple' object does not support item assignment",
          "traceback": [
            "\u001b[0;31m---------------------------------------------------------------------------\u001b[0m",
            "\u001b[0;31mTypeError\u001b[0m                                 Traceback (most recent call last)",
            "\u001b[0;32m<ipython-input-12-7c9b2db9fcf1>\u001b[0m in \u001b[0;36m<cell line: 9>\u001b[0;34m()\u001b[0m\n\u001b[1;32m      7\u001b[0m \u001b[0mprint\u001b[0m\u001b[0;34m(\u001b[0m\u001b[0;34m\"Original tuple:\"\u001b[0m\u001b[0;34m,\u001b[0m \u001b[0mt\u001b[0m\u001b[0;34m)\u001b[0m\u001b[0;34m\u001b[0m\u001b[0;34m\u001b[0m\u001b[0m\n\u001b[1;32m      8\u001b[0m \u001b[0mprint\u001b[0m\u001b[0;34m(\u001b[0m\u001b[0;34m\"Attempting to change :\"\u001b[0m\u001b[0;34m)\u001b[0m\u001b[0;34m\u001b[0m\u001b[0;34m\u001b[0m\u001b[0m\n\u001b[0;32m----> 9\u001b[0;31m \u001b[0mt\u001b[0m\u001b[0;34m[\u001b[0m\u001b[0;36m2\u001b[0m\u001b[0;34m]\u001b[0m \u001b[0;34m=\u001b[0m \u001b[0;36m9\u001b[0m\u001b[0;34m\u001b[0m\u001b[0;34m\u001b[0m\u001b[0m\n\u001b[0m\u001b[1;32m     10\u001b[0m \u001b[0;31m#The above code shows that lists are mutable and tuples are immutable.\u001b[0m\u001b[0;34m\u001b[0m\u001b[0;34m\u001b[0m\u001b[0m\n",
            "\u001b[0;31mTypeError\u001b[0m: 'tuple' object does not support item assignment"
          ]
        }
      ]
    },
    {
      "cell_type": "code",
      "source": [
        "#Q8. Write a program to demonstrate the use of logical operators.\n",
        "a = True\n",
        "b = False\n",
        "c = True\n",
        "print(\"Using 'and' operator:\")\n",
        "print(\"a and b:\",a and b)\n",
        "print(\"Using 'or' operator:\")\n",
        "print(\"b or c: \",b or c)\n",
        "print(\"Using 'not' operator:\")\n",
        "print(\"not a:\",not a)"
      ],
      "metadata": {
        "colab": {
          "base_uri": "https://localhost:8080/"
        },
        "id": "c0KPHM-A1sfN",
        "outputId": "3026cd67-2321-4f36-e8ac-e00c0ebbe44b"
      },
      "execution_count": 15,
      "outputs": [
        {
          "output_type": "stream",
          "name": "stdout",
          "text": [
            "Using 'and' operator:\n",
            "a and b: False\n",
            "Using 'or' operator:\n",
            "b or c:  True\n",
            "Using 'not' operator:\n",
            "not a: False\n"
          ]
        }
      ]
    },
    {
      "cell_type": "code",
      "source": [
        "#Q9.Write a Python program to convert user input from string to integer, float, and boolean types.\n",
        "word = input(\"Enter a string that starts with either digits or alphabets: \")\n",
        "if word.isdigit() or (word.startswith('-') and word[1:].isdigit()):\n",
        "    int_word = int(word)\n",
        "    print(\"The integer form is:\", int_word)\n",
        "else:\n",
        "    print(\"Invalid input.\")\n",
        "if word.count('.') == 1:\n",
        "    left, right = word.split('.')\n",
        "    if (left.isdigit() or (left.startswith('-') and left[1:].isdigit())) and right.isdigit():\n",
        "        flo_word = float(word)\n",
        "        print(\"The float form is:\", flo_word)\n",
        "    else:\n",
        "        print(\"Invalid input .\")\n",
        "else:\n",
        "    print(\"Invalid input .\")\n",
        "bool_word = bool(word)\n",
        "print(\"The boolean form is:\", bool_word)\n"
      ],
      "metadata": {
        "colab": {
          "base_uri": "https://localhost:8080/"
        },
        "id": "Lt52Ewni2fph",
        "outputId": "7078b9c1-2985-4e00-ea84-c82635c62918"
      },
      "execution_count": 18,
      "outputs": [
        {
          "output_type": "stream",
          "name": "stdout",
          "text": [
            "Enter a string that starts with either digits or alphabets: Khushi\n",
            "Invalid input.\n",
            "Invalid input .\n",
            "The boolean form is: True\n"
          ]
        }
      ]
    },
    {
      "cell_type": "code",
      "source": [
        "#Q10.Write code to demonstrate type casting with list elements.\n",
        "list = [1,2,9,4,5]\n",
        "print(\"Original list:\",l)\n",
        "int_list = []\n",
        "float_list = []\n",
        "for item in l:\n",
        "    if isinstance(item, str) and item.isdigit():\n",
        "        int_list.append(int(item))\n",
        "    elif isinstance(item, (int, float)):\n",
        "        int_list.append(int(item))\n",
        "    float_list.append(float(item) if isinstance(item, (int, float)) else float(item) if isinstance(item, str) else 0.0)\n",
        "print(\"Converted to integers:\", int_list)\n",
        "print(\"Converted to floats:\", float_list)"
      ],
      "metadata": {
        "colab": {
          "base_uri": "https://localhost:8080/"
        },
        "id": "CU8kFWug4xSA",
        "outputId": "fb654927-d66e-4c04-e59d-81a049377589"
      },
      "execution_count": 20,
      "outputs": [
        {
          "output_type": "stream",
          "name": "stdout",
          "text": [
            "Original list: [1, 2, 9, 4, 5]\n",
            "Converted to integers: [1, 2, 9, 4, 5]\n",
            "Converted to floats: [1.0, 2.0, 9.0, 4.0, 5.0]\n"
          ]
        }
      ]
    },
    {
      "cell_type": "code",
      "source": [
        "#Q11. Write a program that checks if a number is positive, negative, or zero.\n",
        "num= int(input(\"Enter a number\"))\n",
        "if(num>0):\n",
        "  print(\"The number is a positive number.\")\n",
        "elif(num<0):\n",
        "  print(\"The number is a negative number.\")\n",
        "else:\n",
        "  print(\"The number is 0.\")"
      ],
      "metadata": {
        "colab": {
          "base_uri": "https://localhost:8080/"
        },
        "id": "eJcDF2eF5qUo",
        "outputId": "92a2dc57-8d6b-499d-e308-58729aff1098"
      },
      "execution_count": 22,
      "outputs": [
        {
          "output_type": "stream",
          "name": "stdout",
          "text": [
            "Enter a number4\n",
            "The number is a positive number.\n"
          ]
        }
      ]
    },
    {
      "cell_type": "code",
      "source": [
        "#Q12. Write a for loop to print numbers from 1 to 10.\n",
        "i=1;\n",
        "for  i in range(1,11):\n",
        "  print(i)"
      ],
      "metadata": {
        "colab": {
          "base_uri": "https://localhost:8080/"
        },
        "id": "c_d48xMc6Rv4",
        "outputId": "a97f2bdd-12ce-444d-de75-5443bbedd5b1"
      },
      "execution_count": 25,
      "outputs": [
        {
          "output_type": "stream",
          "name": "stdout",
          "text": [
            "1\n",
            "2\n",
            "3\n",
            "4\n",
            "5\n",
            "6\n",
            "7\n",
            "8\n",
            "9\n",
            "10\n"
          ]
        }
      ]
    },
    {
      "cell_type": "code",
      "source": [
        "#Q13.Write a Python program to find the sum of all even numbers between 1 and 50.\n",
        "sum=0;\n",
        "i=1\n",
        "for i in range(1,51):\n",
        "  if(i%2==0):\n",
        "    sum+=i\n",
        "print(\"The sum of all even number is \",sum)"
      ],
      "metadata": {
        "colab": {
          "base_uri": "https://localhost:8080/"
        },
        "id": "c3W_MKUz621p",
        "outputId": "3eda023b-e1fd-4db8-fb93-223c0d43829b"
      },
      "execution_count": 26,
      "outputs": [
        {
          "output_type": "stream",
          "name": "stdout",
          "text": [
            "The sum of all even number is  650\n"
          ]
        }
      ]
    },
    {
      "cell_type": "code",
      "source": [
        "#Q14.Write a program to reverse a string using a while loop.\n",
        "org_str = input(\"Enter a string:  \")\n",
        "rev_str = \"\"\n",
        "index = len(org_str) -1\n",
        "while index >= 0:\n",
        "    rev_str += org_str[index]\n",
        "    index -= 1\n",
        "print(\"Reversed string:\", rev_str)"
      ],
      "metadata": {
        "colab": {
          "base_uri": "https://localhost:8080/"
        },
        "id": "xwdSdixW7SSU",
        "outputId": "ce044371-eb40-4640-ebdd-05cba5176ef1"
      },
      "execution_count": 29,
      "outputs": [
        {
          "output_type": "stream",
          "name": "stdout",
          "text": [
            "Enter a string:  khushi\n",
            "Reversed string: ihsuhk\n"
          ]
        }
      ]
    },
    {
      "cell_type": "code",
      "source": [
        "#Q15.  Write a Python program to calculate the factorial of a number provided by the user using a while loop.\n",
        "num = int(input(\"Enter a number: \"))\n",
        "fact = 1\n",
        "c=1;\n",
        "if num < 0:\n",
        "    print(\"Invalid input.\")\n",
        "else:\n",
        "    while c<= num:\n",
        "        fact*= c\n",
        "        c += 1\n",
        "    print(f\"The factorial of \",num,\" is:\",fact)"
      ],
      "metadata": {
        "colab": {
          "base_uri": "https://localhost:8080/"
        },
        "id": "YLPOPsYo8Iq4",
        "outputId": "4cf54bda-e60c-4cd6-b550-41f9f141a462"
      },
      "execution_count": 30,
      "outputs": [
        {
          "output_type": "stream",
          "name": "stdout",
          "text": [
            "Enter a number: 5\n",
            "The factorial of  5  is: 120\n"
          ]
        }
      ]
    }
  ]
}